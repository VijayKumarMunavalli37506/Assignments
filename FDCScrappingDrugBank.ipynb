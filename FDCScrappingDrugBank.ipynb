{
  "nbformat": 4,
  "nbformat_minor": 0,
  "metadata": {
    "colab": {
      "name": "FDCScrappingDrugBank.ipynb",
      "provenance": [],
      "collapsed_sections": [],
      "authorship_tag": "ABX9TyP7lMIOk7d5Ke9bAgtGwUK1",
      "include_colab_link": true
    },
    "kernelspec": {
      "name": "python3",
      "display_name": "Python 3"
    }
  },
  "cells": [
    {
      "cell_type": "markdown",
      "metadata": {
        "id": "view-in-github",
        "colab_type": "text"
      },
      "source": [
        "<a href=\"https://colab.research.google.com/github/VijayKumarMunavalli37506/Assignments/blob/master/FDCScrappingDrugBank.ipynb\" target=\"_parent\"><img src=\"https://colab.research.google.com/assets/colab-badge.svg\" alt=\"Open In Colab\"/></a>"
      ]
    },
    {
      "cell_type": "code",
      "metadata": {
        "id": "03k3_IfaPi6t"
      },
      "source": [
        "from bs4 import BeautifulSoup\r\n",
        "import requests\r\n",
        "import time\r\n",
        "import pandas as pd\r\n",
        "drugname = 'Remdesivir'\r\n",
        "url = \"https://go.drugbank.com/unearth/q?utf8=%E2%9C%93&query=\" + drugname +\"&searcher=drugs\"\r\n",
        "response = requests.get(url)\r\n",
        "soup = BeautifulSoup(response.text, \"html.parser\")\r\n",
        "items = soup.find_all('dl')\r\n",
        "Features = []\r\n",
        "Details = []\r\n",
        "\r\n",
        "for category in items:\r\n",
        "    \r\n",
        "    Features1 = category.find_all('dt')\r\n",
        "    Details1 = category.find_all('dd')\r\n",
        "    for n in Features1:\r\n",
        "        if None in (Features1):\r\n",
        "            continue\r\n",
        "        n1=n.text\r\n",
        "        Features.append(n1)\r\n",
        "    for b in Details1:\r\n",
        "        if None in (Features1, Details1):\r\n",
        "            continue\r\n",
        "        b1=b.text\r\n",
        "        Details.append(b1)\r\n",
        "\r\n",
        "Features = pd.DataFrame(Features, columns=['Features'])\r\n",
        "Region = pd.DataFrame(Features, columns=['Region'])\r\n",
        "Details = pd.DataFrame(Details, columns=['Details'])\r\n",
        "Final_list = pd.concat([Features, Details], axis=1)"
      ],
      "execution_count": 10,
      "outputs": []
    },
    {
      "cell_type": "code",
      "metadata": {
        "colab": {
          "base_uri": "https://localhost:8080/"
        },
        "id": "MORUB9bEP67f",
        "outputId": "85d9d82d-9fcf-4741-87c7-ff7ba10803a9"
      },
      "source": [
        "print(Region)"
      ],
      "execution_count": 12,
      "outputs": [
        {
          "output_type": "stream",
          "text": [
            "     Region\n",
            "0       NaN\n",
            "1       NaN\n",
            "2       NaN\n",
            "3       NaN\n",
            "4       NaN\n",
            "..      ...\n",
            "245     NaN\n",
            "246     NaN\n",
            "247     NaN\n",
            "248     NaN\n",
            "249     NaN\n",
            "\n",
            "[250 rows x 1 columns]\n"
          ],
          "name": "stdout"
        }
      ]
    },
    {
      "cell_type": "code",
      "metadata": {
        "id": "HeAkRpMJTrUG"
      },
      "source": [
        "from bs4 import BeautifulSoup\r\n",
        "import requests\r\n",
        "import time\r\n",
        "import pandas as pd\r\n"
      ],
      "execution_count": null,
      "outputs": []
    },
    {
      "cell_type": "code",
      "metadata": {
        "colab": {
          "base_uri": "https://localhost:8080/"
        },
        "id": "HMTXdA3dQEFV",
        "outputId": "625f89ee-25a2-4a23-f29f-e38b232c6558"
      },
      "source": [
        "print(Final_list)"
      ],
      "execution_count": 4,
      "outputs": [
        {
          "output_type": "stream",
          "text": [
            "              Features                                            Details\n",
            "0                 Name                                         Remdesivir\n",
            "1     Accession Number                                            DB14761\n",
            "2          Description  Severe acute respiratory syndrome coronavirus ...\n",
            "3                 Type                                     Small Molecule\n",
            "4               Groups                          Approved, Investigational\n",
            "..                 ...                                                ...\n",
            "245  Specific Function  The hepatic sodium/bile acid uptake system exh...\n",
            "246          Gene Name                                            SLC10A1\n",
            "247         Uniprot ID                                             Q14973\n",
            "248       Uniprot Name                     Sodium/bile acid cotransporter\n",
            "249   Molecular Weight                                        38118.64 Da\n",
            "\n",
            "[250 rows x 2 columns]\n"
          ],
          "name": "stdout"
        }
      ]
    },
    {
      "cell_type": "code",
      "metadata": {
        "colab": {
          "base_uri": "https://localhost:8080/"
        },
        "id": "XSfRncBgPzao",
        "outputId": "3efbe7cc-2c7c-4053-94da-6abb653545b7"
      },
      "source": [
        "print(Features)"
      ],
      "execution_count": 2,
      "outputs": [
        {
          "output_type": "stream",
          "text": [
            "              Features\n",
            "0                 Name\n",
            "1     Accession Number\n",
            "2          Description\n",
            "3                 Type\n",
            "4               Groups\n",
            "..                 ...\n",
            "245  Specific Function\n",
            "246          Gene Name\n",
            "247         Uniprot ID\n",
            "248       Uniprot Name\n",
            "249   Molecular Weight\n",
            "\n",
            "[250 rows x 1 columns]\n"
          ],
          "name": "stdout"
        }
      ]
    },
    {
      "cell_type": "code",
      "metadata": {
        "id": "wb01AoWATtp0"
      },
      "source": [
        "from bs4 import BeautifulSoup\r\n",
        "import requests\r\n",
        "import time\r\n",
        "import pandas as pd\r\n"
      ],
      "execution_count": 13,
      "outputs": []
    },
    {
      "cell_type": "code",
      "metadata": {
        "id": "RK5l3ukZTv-L"
      },
      "source": [
        "\r\n",
        "class Web_scrapper:\r\n",
        "    def __init__(self):\r\n",
        "        pass\r\n",
        "    def get_Data (self,drugs) :\r\n",
        "        Temp_data=[]               ## to store all the records\r\n",
        "        for drug in drugs:\r\n",
        "            temp=[]               ## temporary record store for each drug\r\n",
        "            url = \"https://go.drugbank.com/unearth/q?utf8=%E2%9C%93&query=\" + drug +\"&searcher=drugs\"\r\n",
        "            response = requests.get(url)\r\n",
        "            soup = BeautifulSoup(response.text, \"html.parser\")\r\n",
        "            items = soup.find_all('dl')\r\n",
        "\r\n",
        "            if len(items)== 0 :        ## if there is no matching record then put all the values as None\r\n",
        "                temp.append(drug)\r\n",
        "                for i in range(8):\r\n",
        "                    temp.append(None)\r\n",
        "            else :\r\n",
        "                temp.append(items[0].find('dt', id=\"name\").find_next('dd').text)\r\n",
        "                temp.append(items[0].find('dt', id=\"description\").find_next('dd').text)\r\n",
        "                temp.append(items[0].find('dt', id=\"synonyms\").find_next('dd').text)\r\n",
        "                temp.append(items[0].find('dt', id=\"chemical-formula\").find_next('dd').text)\r\n",
        "                temp.append(items[5].find('dt', id=\"super-class\").find_next('dd').text)\r\n",
        "                temp.append(items[5].find('dt', id=\"direct-parent\").find_next('dd').text)\r\n",
        "                temp.append(items[5].find('dt', id=\"sub-class\").find_next('dd').text)\r\n",
        "                temp.append(items[2].find('dt', id=\"indication\").find_next('dd').text)\r\n",
        "                #temp.append(items[6].find('dt', id=\"Region\").find_next('dd').text)\r\n",
        "                Ass_c=items[2].find('dt', id=\"associated-conditions\").find_next('dd').text\r\n",
        "                temp.append(Ass_c.split(sep='\\n'))\r\n",
        "\r\n",
        "            Temp_data.append(temp)     ## append all the data of the drugs\r\n",
        "\r\n",
        "        columns=['Name','Description','Synonyms','Chemical_formula','Super_Class','Direct_Parent','Sub_Class','Indication','Associated_Conditions']\r\n",
        "        Data=pd.DataFrame(data=Temp_data,columns=columns)   \r\n",
        "        return Data                 ## return in the form of dataframe\r\n"
      ],
      "execution_count": 51,
      "outputs": []
    },
    {
      "cell_type": "code",
      "metadata": {
        "id": "x4sJpua-T9D9"
      },
      "source": [
        "## Drugs to get information \r\n",
        "drugs=['MANNITOL 2','ACYCLOVIR']"
      ],
      "execution_count": 52,
      "outputs": []
    },
    {
      "cell_type": "code",
      "metadata": {
        "id": "TUZUjEdHIuyO"
      },
      "source": [
        "!pip install -U -q PyDrive\r\n",
        "import os\r\n",
        "from pydrive.auth import GoogleAuth\r\n",
        "from pydrive.drive import GoogleDrive\r\n",
        "from google.colab import auth\r\n",
        "from oauth2client.client import GoogleCredentials\r\n",
        "\r\n",
        "# 1. Authenticate and create the PyDrive client.\r\n",
        "auth.authenticate_user()\r\n",
        "gauth = GoogleAuth()\r\n",
        "gauth.credentials = GoogleCredentials.get_application_default()\r\n",
        "drive = GoogleDrive(gauth)\r\n",
        "\r\n",
        "# choose a local (colab) directory to store the data.\r\n",
        "local_download_path = os.path.expanduser('~/My Drive/Classroom/Colab Notebooks/')\r\n",
        "try:\r\n",
        "  os.makedirs(local_download_path)\r\n",
        "except: pass\r\n",
        "\r\n",
        "# 2. Auto-iterate using the query syntax\r\n",
        "#    https://developers.google.com/drive/v2/web/search-parameters\r\n",
        "file_list = drive.ListFile(\r\n",
        "    {'q': \"'1SooKSw8M4ACbznKjnNrYvJ5wxuqJ-YCk' in parents\"}).GetList()\r\n",
        "\r\n",
        "for f in file_list:\r\n",
        "  # 3. Create & download by id.\r\n",
        "  print('title: %s, id: %s' % (f['title'], f['id']))\r\n",
        "  fname = os.path.join(local_download_path, f['title'])\r\n",
        "  print('downloading to {}'.format(fname))\r\n",
        "  f_ = drive.CreateFile({'id': f['id']})\r\n",
        "  f_.GetContentFile(fname)\r\n",
        "  print(fname)\r\n",
        "\r\n"
      ],
      "execution_count": 10,
      "outputs": []
    },
    {
      "cell_type": "code",
      "metadata": {
        "id": "ofjXOGNxIu1t"
      },
      "source": [
        ""
      ],
      "execution_count": null,
      "outputs": []
    },
    {
      "cell_type": "code",
      "metadata": {
        "id": "5SSQq_K8UDgS"
      },
      "source": [
        "web_scrapper=Web_scrapper()  ## create objec"
      ],
      "execution_count": 53,
      "outputs": []
    },
    {
      "cell_type": "code",
      "metadata": {
        "id": "hYEIT4eaUL71"
      },
      "source": [
        "df=web_scrapper.get_Data(drugs)  ## call function"
      ],
      "execution_count": 54,
      "outputs": []
    },
    {
      "cell_type": "code",
      "metadata": {
        "colab": {
          "base_uri": "https://localhost:8080/",
          "height": 145
        },
        "id": "raFkviPjUVB3",
        "outputId": "15ab078f-50eb-4414-e3de-3ea78ca986f9"
      },
      "source": [
        "df.head()   ## show data"
      ],
      "execution_count": 50,
      "outputs": [
        {
          "output_type": "execute_result",
          "data": {
            "text/html": [
              "<div>\n",
              "<style scoped>\n",
              "    .dataframe tbody tr th:only-of-type {\n",
              "        vertical-align: middle;\n",
              "    }\n",
              "\n",
              "    .dataframe tbody tr th {\n",
              "        vertical-align: top;\n",
              "    }\n",
              "\n",
              "    .dataframe thead th {\n",
              "        text-align: right;\n",
              "    }\n",
              "</style>\n",
              "<table border=\"1\" class=\"dataframe\">\n",
              "  <thead>\n",
              "    <tr style=\"text-align: right;\">\n",
              "      <th></th>\n",
              "      <th>Name</th>\n",
              "      <th>Description</th>\n",
              "      <th>Synonyms</th>\n",
              "      <th>Chemical_formula</th>\n",
              "      <th>Super_Class</th>\n",
              "      <th>Direct_Parent</th>\n",
              "      <th>Sub_Class</th>\n",
              "      <th>Indication</th>\n",
              "      <th>Associated_Conditions</th>\n",
              "    </tr>\n",
              "  </thead>\n",
              "  <tbody>\n",
              "    <tr>\n",
              "      <th>0</th>\n",
              "      <td>MANNITOL 2</td>\n",
              "      <td>None</td>\n",
              "      <td>None</td>\n",
              "      <td>None</td>\n",
              "      <td>None</td>\n",
              "      <td>None</td>\n",
              "      <td>None</td>\n",
              "      <td>None</td>\n",
              "      <td>None</td>\n",
              "    </tr>\n",
              "    <tr>\n",
              "      <th>1</th>\n",
              "      <td>Acyclovir</td>\n",
              "      <td>Acyclovir is a nucleotide analog antiviral use...</td>\n",
              "      <td>AciclovirAciclovirumAcycloguanosineAcyclovir</td>\n",
              "      <td>C8H11N5O3</td>\n",
              "      <td>Organoheterocyclic compounds</td>\n",
              "      <td>Hypoxanthines</td>\n",
              "      <td>Purines and purine derivatives</td>\n",
              "      <td>An acyclovir topical cream is indicated to tre...</td>\n",
              "      <td>[Bell's Palsy, Chickenpox, Cytomegalovirus (CM...</td>\n",
              "    </tr>\n",
              "  </tbody>\n",
              "</table>\n",
              "</div>"
            ],
            "text/plain": [
              "         Name  ...                              Associated_Conditions\n",
              "0  MANNITOL 2  ...                                               None\n",
              "1   Acyclovir  ...  [Bell's Palsy, Chickenpox, Cytomegalovirus (CM...\n",
              "\n",
              "[2 rows x 9 columns]"
            ]
          },
          "metadata": {
            "tags": []
          },
          "execution_count": 50
        }
      ]
    }
  ]
}