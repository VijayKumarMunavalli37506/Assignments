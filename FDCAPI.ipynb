{
  "nbformat": 4,
  "nbformat_minor": 0,
  "metadata": {
    "colab": {
      "name": "FDCAPI.ipynb",
      "provenance": [],
      "authorship_tag": "ABX9TyOFHBSBJenxdBn0aJrHLRHK",
      "include_colab_link": true
    },
    "kernelspec": {
      "name": "python3",
      "display_name": "Python 3"
    }
  },
  "cells": [
    {
      "cell_type": "markdown",
      "metadata": {
        "id": "view-in-github",
        "colab_type": "text"
      },
      "source": [
        "<a href=\"https://colab.research.google.com/github/VijayKumarMunavalli37506/Assignments/blob/master/FDCAPI.ipynb\" target=\"_parent\"><img src=\"https://colab.research.google.com/assets/colab-badge.svg\" alt=\"Open In Colab\"/></a>"
      ]
    },
    {
      "cell_type": "code",
      "metadata": {
        "colab": {
          "base_uri": "https://localhost:8080/"
        },
        "id": "-MPdpTQo1hzm",
        "outputId": "6ae64dd5-9d66-4859-eb35-3870c1043ed4"
      },
      "source": [
        "pip install flask"
      ],
      "execution_count": 3,
      "outputs": [
        {
          "output_type": "stream",
          "text": [
            "Requirement already satisfied: flask in /usr/local/lib/python3.6/dist-packages (1.1.2)\n",
            "Requirement already satisfied: itsdangerous>=0.24 in /usr/local/lib/python3.6/dist-packages (from flask) (1.1.0)\n",
            "Requirement already satisfied: Werkzeug>=0.15 in /usr/local/lib/python3.6/dist-packages (from flask) (1.0.1)\n",
            "Requirement already satisfied: Jinja2>=2.10.1 in /usr/local/lib/python3.6/dist-packages (from flask) (2.11.2)\n",
            "Requirement already satisfied: click>=5.1 in /usr/local/lib/python3.6/dist-packages (from flask) (7.1.2)\n",
            "Requirement already satisfied: MarkupSafe>=0.23 in /usr/local/lib/python3.6/dist-packages (from Jinja2>=2.10.1->flask) (1.1.1)\n"
          ],
          "name": "stdout"
        }
      ]
    },
    {
      "cell_type": "code",
      "metadata": {
        "colab": {
          "base_uri": "https://localhost:8080/"
        },
        "id": "gfZH2WWD139y",
        "outputId": "7225acf5-c120-4985-b20c-5d53bea0ec42"
      },
      "source": [
        "pip install django\r\n"
      ],
      "execution_count": 7,
      "outputs": [
        {
          "output_type": "stream",
          "text": [
            "Requirement already satisfied: django in /usr/local/lib/python3.6/dist-packages (3.1.5)\n",
            "Requirement already satisfied: pytz in /usr/local/lib/python3.6/dist-packages (from django) (2018.9)\n",
            "Requirement already satisfied: asgiref<4,>=3.2.10 in /usr/local/lib/python3.6/dist-packages (from django) (3.3.1)\n",
            "Requirement already satisfied: sqlparse>=0.2.2 in /usr/local/lib/python3.6/dist-packages (from django) (0.4.1)\n"
          ],
          "name": "stdout"
        }
      ]
    },
    {
      "cell_type": "code",
      "metadata": {
        "colab": {
          "base_uri": "https://localhost:8080/"
        },
        "id": "MDBNvIbv49x7",
        "outputId": "f48e2f8b-8dfd-4d7d-9769-d49c1990555a"
      },
      "source": [
        "pip install djangorestframework"
      ],
      "execution_count": 8,
      "outputs": [
        {
          "output_type": "stream",
          "text": [
            "Collecting djangorestframework\n",
            "\u001b[?25l  Downloading https://files.pythonhosted.org/packages/8e/42/4cd19938181a912150e55835109b1933be26b776f3d4fb186491968dc41d/djangorestframework-3.12.2-py3-none-any.whl (957kB)\n",
            "\r\u001b[K     |▍                               | 10kB 18.2MB/s eta 0:00:01\r\u001b[K     |▊                               | 20kB 11.2MB/s eta 0:00:01\r\u001b[K     |█                               | 30kB 7.9MB/s eta 0:00:01\r\u001b[K     |█▍                              | 40kB 7.2MB/s eta 0:00:01\r\u001b[K     |█▊                              | 51kB 4.3MB/s eta 0:00:01\r\u001b[K     |██                              | 61kB 4.7MB/s eta 0:00:01\r\u001b[K     |██▍                             | 71kB 4.9MB/s eta 0:00:01\r\u001b[K     |██▊                             | 81kB 5.3MB/s eta 0:00:01\r\u001b[K     |███                             | 92kB 5.4MB/s eta 0:00:01\r\u001b[K     |███▍                            | 102kB 5.5MB/s eta 0:00:01\r\u001b[K     |███▊                            | 112kB 5.5MB/s eta 0:00:01\r\u001b[K     |████                            | 122kB 5.5MB/s eta 0:00:01\r\u001b[K     |████▌                           | 133kB 5.5MB/s eta 0:00:01\r\u001b[K     |████▉                           | 143kB 5.5MB/s eta 0:00:01\r\u001b[K     |█████▏                          | 153kB 5.5MB/s eta 0:00:01\r\u001b[K     |█████▌                          | 163kB 5.5MB/s eta 0:00:01\r\u001b[K     |█████▉                          | 174kB 5.5MB/s eta 0:00:01\r\u001b[K     |██████▏                         | 184kB 5.5MB/s eta 0:00:01\r\u001b[K     |██████▌                         | 194kB 5.5MB/s eta 0:00:01\r\u001b[K     |██████▉                         | 204kB 5.5MB/s eta 0:00:01\r\u001b[K     |███████▏                        | 215kB 5.5MB/s eta 0:00:01\r\u001b[K     |███████▌                        | 225kB 5.5MB/s eta 0:00:01\r\u001b[K     |███████▉                        | 235kB 5.5MB/s eta 0:00:01\r\u001b[K     |████████▏                       | 245kB 5.5MB/s eta 0:00:01\r\u001b[K     |████████▋                       | 256kB 5.5MB/s eta 0:00:01\r\u001b[K     |█████████                       | 266kB 5.5MB/s eta 0:00:01\r\u001b[K     |█████████▎                      | 276kB 5.5MB/s eta 0:00:01\r\u001b[K     |█████████▋                      | 286kB 5.5MB/s eta 0:00:01\r\u001b[K     |██████████                      | 296kB 5.5MB/s eta 0:00:01\r\u001b[K     |██████████▎                     | 307kB 5.5MB/s eta 0:00:01\r\u001b[K     |██████████▋                     | 317kB 5.5MB/s eta 0:00:01\r\u001b[K     |███████████                     | 327kB 5.5MB/s eta 0:00:01\r\u001b[K     |███████████▎                    | 337kB 5.5MB/s eta 0:00:01\r\u001b[K     |███████████▋                    | 348kB 5.5MB/s eta 0:00:01\r\u001b[K     |████████████                    | 358kB 5.5MB/s eta 0:00:01\r\u001b[K     |████████████▎                   | 368kB 5.5MB/s eta 0:00:01\r\u001b[K     |████████████▋                   | 378kB 5.5MB/s eta 0:00:01\r\u001b[K     |█████████████                   | 389kB 5.5MB/s eta 0:00:01\r\u001b[K     |█████████████▍                  | 399kB 5.5MB/s eta 0:00:01\r\u001b[K     |█████████████▊                  | 409kB 5.5MB/s eta 0:00:01\r\u001b[K     |██████████████                  | 419kB 5.5MB/s eta 0:00:01\r\u001b[K     |██████████████▍                 | 430kB 5.5MB/s eta 0:00:01\r\u001b[K     |██████████████▊                 | 440kB 5.5MB/s eta 0:00:01\r\u001b[K     |███████████████                 | 450kB 5.5MB/s eta 0:00:01\r\u001b[K     |███████████████▍                | 460kB 5.5MB/s eta 0:00:01\r\u001b[K     |███████████████▊                | 471kB 5.5MB/s eta 0:00:01\r\u001b[K     |████████████████                | 481kB 5.5MB/s eta 0:00:01\r\u001b[K     |████████████████▍               | 491kB 5.5MB/s eta 0:00:01\r\u001b[K     |████████████████▊               | 501kB 5.5MB/s eta 0:00:01\r\u001b[K     |█████████████████▏              | 512kB 5.5MB/s eta 0:00:01\r\u001b[K     |█████████████████▌              | 522kB 5.5MB/s eta 0:00:01\r\u001b[K     |█████████████████▉              | 532kB 5.5MB/s eta 0:00:01\r\u001b[K     |██████████████████▏             | 542kB 5.5MB/s eta 0:00:01\r\u001b[K     |██████████████████▌             | 552kB 5.5MB/s eta 0:00:01\r\u001b[K     |██████████████████▉             | 563kB 5.5MB/s eta 0:00:01\r\u001b[K     |███████████████████▏            | 573kB 5.5MB/s eta 0:00:01\r\u001b[K     |███████████████████▌            | 583kB 5.5MB/s eta 0:00:01\r\u001b[K     |███████████████████▉            | 593kB 5.5MB/s eta 0:00:01\r\u001b[K     |████████████████████▏           | 604kB 5.5MB/s eta 0:00:01\r\u001b[K     |████████████████████▌           | 614kB 5.5MB/s eta 0:00:01\r\u001b[K     |████████████████████▉           | 624kB 5.5MB/s eta 0:00:01\r\u001b[K     |█████████████████████▏          | 634kB 5.5MB/s eta 0:00:01\r\u001b[K     |█████████████████████▋          | 645kB 5.5MB/s eta 0:00:01\r\u001b[K     |██████████████████████          | 655kB 5.5MB/s eta 0:00:01\r\u001b[K     |██████████████████████▎         | 665kB 5.5MB/s eta 0:00:01\r\u001b[K     |██████████████████████▋         | 675kB 5.5MB/s eta 0:00:01\r\u001b[K     |███████████████████████         | 686kB 5.5MB/s eta 0:00:01\r\u001b[K     |███████████████████████▎        | 696kB 5.5MB/s eta 0:00:01\r\u001b[K     |███████████████████████▋        | 706kB 5.5MB/s eta 0:00:01\r\u001b[K     |████████████████████████        | 716kB 5.5MB/s eta 0:00:01\r\u001b[K     |████████████████████████▎       | 727kB 5.5MB/s eta 0:00:01\r\u001b[K     |████████████████████████▋       | 737kB 5.5MB/s eta 0:00:01\r\u001b[K     |█████████████████████████       | 747kB 5.5MB/s eta 0:00:01\r\u001b[K     |█████████████████████████▎      | 757kB 5.5MB/s eta 0:00:01\r\u001b[K     |█████████████████████████▊      | 768kB 5.5MB/s eta 0:00:01\r\u001b[K     |██████████████████████████      | 778kB 5.5MB/s eta 0:00:01\r\u001b[K     |██████████████████████████▍     | 788kB 5.5MB/s eta 0:00:01\r\u001b[K     |██████████████████████████▊     | 798kB 5.5MB/s eta 0:00:01\r\u001b[K     |███████████████████████████     | 808kB 5.5MB/s eta 0:00:01\r\u001b[K     |███████████████████████████▍    | 819kB 5.5MB/s eta 0:00:01\r\u001b[K     |███████████████████████████▊    | 829kB 5.5MB/s eta 0:00:01\r\u001b[K     |████████████████████████████    | 839kB 5.5MB/s eta 0:00:01\r\u001b[K     |████████████████████████████▍   | 849kB 5.5MB/s eta 0:00:01\r\u001b[K     |████████████████████████████▊   | 860kB 5.5MB/s eta 0:00:01\r\u001b[K     |█████████████████████████████   | 870kB 5.5MB/s eta 0:00:01\r\u001b[K     |█████████████████████████████▍  | 880kB 5.5MB/s eta 0:00:01\r\u001b[K     |█████████████████████████████▊  | 890kB 5.5MB/s eta 0:00:01\r\u001b[K     |██████████████████████████████▏ | 901kB 5.5MB/s eta 0:00:01\r\u001b[K     |██████████████████████████████▌ | 911kB 5.5MB/s eta 0:00:01\r\u001b[K     |██████████████████████████████▉ | 921kB 5.5MB/s eta 0:00:01\r\u001b[K     |███████████████████████████████▏| 931kB 5.5MB/s eta 0:00:01\r\u001b[K     |███████████████████████████████▌| 942kB 5.5MB/s eta 0:00:01\r\u001b[K     |███████████████████████████████▉| 952kB 5.5MB/s eta 0:00:01\r\u001b[K     |████████████████████████████████| 962kB 5.5MB/s \n",
            "\u001b[?25hRequirement already satisfied: django>=2.2 in /usr/local/lib/python3.6/dist-packages (from djangorestframework) (3.1.5)\n",
            "Requirement already satisfied: pytz in /usr/local/lib/python3.6/dist-packages (from django>=2.2->djangorestframework) (2018.9)\n",
            "Requirement already satisfied: sqlparse>=0.2.2 in /usr/local/lib/python3.6/dist-packages (from django>=2.2->djangorestframework) (0.4.1)\n",
            "Requirement already satisfied: asgiref<4,>=3.2.10 in /usr/local/lib/python3.6/dist-packages (from django>=2.2->djangorestframework) (3.3.1)\n",
            "Installing collected packages: djangorestframework\n",
            "Successfully installed djangorestframework-3.12.2\n"
          ],
          "name": "stdout"
        }
      ]
    },
    {
      "cell_type": "code",
      "metadata": {
        "colab": {
          "base_uri": "https://localhost:8080/"
        },
        "id": "r8a5qt2y5D9j",
        "outputId": "9f27dac5-698a-4d8d-d5c9-d92921c3144f"
      },
      "source": [
        "!pip install flask-ngrok"
      ],
      "execution_count": 16,
      "outputs": [
        {
          "output_type": "stream",
          "text": [
            "Collecting flask-ngrok\n",
            "  Downloading https://files.pythonhosted.org/packages/af/6c/f54cb686ad1129e27d125d182f90f52b32f284e6c8df58c1bae54fa1adbc/flask_ngrok-0.0.25-py3-none-any.whl\n",
            "Requirement already satisfied: Flask>=0.8 in /usr/local/lib/python3.6/dist-packages (from flask-ngrok) (1.1.2)\n",
            "Requirement already satisfied: requests in /usr/local/lib/python3.6/dist-packages (from flask-ngrok) (2.23.0)\n",
            "Requirement already satisfied: itsdangerous>=0.24 in /usr/local/lib/python3.6/dist-packages (from Flask>=0.8->flask-ngrok) (1.1.0)\n",
            "Requirement already satisfied: click>=5.1 in /usr/local/lib/python3.6/dist-packages (from Flask>=0.8->flask-ngrok) (7.1.2)\n",
            "Requirement already satisfied: Werkzeug>=0.15 in /usr/local/lib/python3.6/dist-packages (from Flask>=0.8->flask-ngrok) (1.0.1)\n",
            "Requirement already satisfied: Jinja2>=2.10.1 in /usr/local/lib/python3.6/dist-packages (from Flask>=0.8->flask-ngrok) (2.11.2)\n",
            "Requirement already satisfied: urllib3!=1.25.0,!=1.25.1,<1.26,>=1.21.1 in /usr/local/lib/python3.6/dist-packages (from requests->flask-ngrok) (1.24.3)\n",
            "Requirement already satisfied: idna<3,>=2.5 in /usr/local/lib/python3.6/dist-packages (from requests->flask-ngrok) (2.10)\n",
            "Requirement already satisfied: certifi>=2017.4.17 in /usr/local/lib/python3.6/dist-packages (from requests->flask-ngrok) (2020.12.5)\n",
            "Requirement already satisfied: chardet<4,>=3.0.2 in /usr/local/lib/python3.6/dist-packages (from requests->flask-ngrok) (3.0.4)\n",
            "Requirement already satisfied: MarkupSafe>=0.23 in /usr/local/lib/python3.6/dist-packages (from Jinja2>=2.10.1->Flask>=0.8->flask-ngrok) (1.1.1)\n",
            "Installing collected packages: flask-ngrok\n",
            "Successfully installed flask-ngrok-0.0.25\n"
          ],
          "name": "stdout"
        }
      ]
    },
    {
      "cell_type": "code",
      "metadata": {
        "colab": {
          "base_uri": "https://localhost:8080/"
        },
        "id": "_2CUEis_R5D0",
        "outputId": "ddc069e1-b90c-4bd4-9980-73b40171cccc"
      },
      "source": [
        "from flask_ngrok import run_with_ngrok\r\n",
        "from flask import Flask\r\n",
        "app = Flask(__name__)\r\n",
        "run_with_ngrok(app)   #starts ngrok when the app is run\r\n",
        "@app.route(\"/\")\r\n",
        "def home():\r\n",
        "    return \"<h1>Running Flask on Google Colab!</h1>\"\r\n",
        "  \r\n",
        "app.run()"
      ],
      "execution_count": 17,
      "outputs": [
        {
          "output_type": "stream",
          "text": [
            " * Serving Flask app \"__main__\" (lazy loading)\n",
            " * Environment: production\n",
            "\u001b[31m   WARNING: This is a development server. Do not use it in a production deployment.\u001b[0m\n",
            "\u001b[2m   Use a production WSGI server instead.\u001b[0m\n",
            " * Debug mode: off\n",
            " * Running on http://b24571fb388a.ngrok.io\n",
            " * Traffic stats available on http://127.0.0.1:4040\n"
          ],
          "name": "stdout"
        }
      ]
    },
    {
      "cell_type": "code",
      "metadata": {
        "id": "GtOfhaWIR8Rd"
      },
      "source": [
        ""
      ],
      "execution_count": null,
      "outputs": []
    }
  ]
}