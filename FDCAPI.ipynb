{
  "nbformat": 4,
  "nbformat_minor": 0,
  "metadata": {
    "colab": {
      "name": "FDCAPI.ipynb",
      "provenance": [],
      "authorship_tag": "ABX9TyNlOVcJlbEY/nQ1asZNEsxZ",
      "include_colab_link": true
    },
    "kernelspec": {
      "name": "python3",
      "display_name": "Python 3"
    }
  },
  "cells": [
    {
      "cell_type": "markdown",
      "metadata": {
        "id": "view-in-github",
        "colab_type": "text"
      },
      "source": [
        "<a href=\"https://colab.research.google.com/github/VijayKumarMunavalli37506/Assignments/blob/master/FDCAPI.ipynb\" target=\"_parent\"><img src=\"https://colab.research.google.com/assets/colab-badge.svg\" alt=\"Open In Colab\"/></a>"
      ]
    },
    {
      "cell_type": "code",
      "metadata": {
        "colab": {
          "base_uri": "https://localhost:8080/"
        },
        "id": "-MPdpTQo1hzm",
        "outputId": "6ae64dd5-9d66-4859-eb35-3870c1043ed4"
      },
      "source": [
        "pip install flask"
      ],
      "execution_count": 3,
      "outputs": [
        {
          "output_type": "stream",
          "text": [
            "Requirement already satisfied: flask in /usr/local/lib/python3.6/dist-packages (1.1.2)\n",
            "Requirement already satisfied: itsdangerous>=0.24 in /usr/local/lib/python3.6/dist-packages (from flask) (1.1.0)\n",
            "Requirement already satisfied: Werkzeug>=0.15 in /usr/local/lib/python3.6/dist-packages (from flask) (1.0.1)\n",
            "Requirement already satisfied: Jinja2>=2.10.1 in /usr/local/lib/python3.6/dist-packages (from flask) (2.11.2)\n",
            "Requirement already satisfied: click>=5.1 in /usr/local/lib/python3.6/dist-packages (from flask) (7.1.2)\n",
            "Requirement already satisfied: MarkupSafe>=0.23 in /usr/local/lib/python3.6/dist-packages (from Jinja2>=2.10.1->flask) (1.1.1)\n"
          ],
          "name": "stdout"
        }
      ]
    },
    {
      "cell_type": "code",
      "metadata": {
        "id": "gfZH2WWD139y"
      },
      "source": [
        "import flask\r\n",
        "\r\n",
        "app = flask.Flask(__name__)\r\n",
        "app.config[\"DEBUG\"] = True\r\n",
        "\r\n",
        "\r\n",
        "@app.route('/', methods=['GET'])\r\n",
        "def home():\r\n",
        "    return \"<h1>Distant Reading Archive</h1><p>This site is a prototype API for distant reading of science fiction novels.</p>\"\r\n",
        "\r\n",
        "app.run()"
      ],
      "execution_count": null,
      "outputs": []
    }
  ]
}